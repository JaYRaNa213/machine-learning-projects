{
 "cells": [
  {
   "cell_type": "code",
   "execution_count": null,
   "id": "f260cd6f-2111-4657-b008-8a4d70617f64",
   "metadata": {},
   "outputs": [],
   "source": [
    "import numpy as numpy\n",
    "import pandas as pd"
   ]
  },
  {
   "cell_type": "code",
   "execution_count": null,
   "id": "66278a0f-98bc-4fa2-987d-2f66f409510d",
   "metadata": {},
   "outputs": [],
   "source": [
    "movies=pd.read_csv('tmdb_5000_movies.csv')\n",
    "movies.head()"
   ]
  },
  {
   "cell_type": "code",
   "execution_count": null,
   "id": "c1032359-3b45-46c4-8c3a-f69e7777a553",
   "metadata": {},
   "outputs": [],
   "source": [
    "credits=pd.read_csv('tmdb_5000_credits.csv')\n",
    "credits.head(5)"
   ]
  },
  {
   "cell_type": "code",
   "execution_count": null,
   "id": "9f11d433-9e78-4021-b913-c5f5b839fe77",
   "metadata": {},
   "outputs": [],
   "source": [
    "merged_df=movies.merge(credits,on='title')\n",
    "merged_df.shape\n"
   ]
  },
  {
   "cell_type": "code",
   "execution_count": null,
   "id": "14e9f868-89d2-462b-b140-4d0b330609f9",
   "metadata": {},
   "outputs": [],
   "source": [
    "movies.shape"
   ]
  },
  {
   "cell_type": "code",
   "execution_count": null,
   "id": "35684cab-5161-492c-bf56-ca9d7ba96668",
   "metadata": {},
   "outputs": [],
   "source": [
    "credits.shape"
   ]
  },
  {
   "cell_type": "code",
   "execution_count": null,
   "id": "39bd3a98-0b64-446b-b985-a76d79409590",
   "metadata": {},
   "outputs": [],
   "source": [
    "merged_df.head()"
   ]
  },
  {
   "cell_type": "markdown",
   "id": "495a2be0-99c5-4edd-a392-53d4f2683000",
   "metadata": {},
   "source": [
    "## it is important for select tags\n"
   ]
  },
  {
   "cell_type": "code",
   "execution_count": null,
   "id": "ac053f8c-79e0-45b4-b067-deb6acbab83c",
   "metadata": {},
   "outputs": [],
   "source": [
    "merged_df.info()"
   ]
  },
  {
   "cell_type": "markdown",
   "id": "73701172-4887-4dd5-be3c-aed809dd144e",
   "metadata": {},
   "source": [
    "# important tags\n",
    "1. Genres\n",
    "2. id\n",
    "3. keywords\n",
    "4. title\n",
    "5. overviews\n",
    "6. cast\n",
    "7. crew\n",
    "8. production_company"
   ]
  },
  {
   "cell_type": "code",
   "execution_count": null,
   "id": "a264a1da-850a-498f-8a2a-de2a02d2c808",
   "metadata": {},
   "outputs": [],
   "source": [
    "movies=merged_df[['movie_id','title','overview','genres','keywords','cast','crew']]\n",
    "movies.head()"
   ]
  },
  {
   "cell_type": "code",
   "execution_count": null,
   "id": "b108f454-64de-4ccf-8443-e7c8dbe1af0c",
   "metadata": {},
   "outputs": [],
   "source": [
    "movies.dropna(inplace=True)\n",
    "movies.isnull().sum()"
   ]
  },
  {
   "cell_type": "code",
   "execution_count": null,
   "id": "beb6571c-5d97-479d-8723-f20cf1c70637",
   "metadata": {},
   "outputs": [],
   "source": [
    "movies.duplicated().sum()"
   ]
  },
  {
   "cell_type": "code",
   "execution_count": null,
   "id": "955403a6-6e32-44aa-9e11-3f1f79f3030b",
   "metadata": {},
   "outputs": [],
   "source": [
    "movies.iloc[0].genres"
   ]
  },
  {
   "cell_type": "code",
   "execution_count": null,
   "id": "75a03b7b-8233-48c3-a9e0-652a02aeb7cc",
   "metadata": {},
   "outputs": [],
   "source": [
    "'''[{\"id\": 28, \"name\": \"Action\"}, {\"id\": 12, \"name\": \"Adventure\"}, {\"id\": 14, \"name\": \"Fantasy\"}, {\"id\": 878, \"name\": \"SciFictionence \"}]'\n",
    "= ['Action','Adventure','Fantasy','SciFictionence']'''"
   ]
  },
  {
   "cell_type": "code",
   "execution_count": null,
   "id": "f20b39a6-4638-442e-a05c-b8fa71a05388",
   "metadata": {},
   "outputs": [],
   "source": [
    "import ast\n",
    "def convert(obj):\n",
    "    L=[]\n",
    "    for i in ast.literal_eval(obj):  # obj is string so by using this code convert into list so we can change or perform  operation \n",
    "        L.append(i['name'])\n",
    "    return L"
   ]
  },
  {
   "cell_type": "code",
   "execution_count": null,
   "id": "cf477b73-6643-493c-9cd0-0a8ae9a42acb",
   "metadata": {},
   "outputs": [],
   "source": []
  },
  {
   "cell_type": "code",
   "execution_count": null,
   "id": "278cef3a-07eb-4f64-954c-8f7f55002abf",
   "metadata": {},
   "outputs": [],
   "source": [
    "movies['genres']=movies['genres'].apply(convert)"
   ]
  },
  {
   "cell_type": "code",
   "execution_count": null,
   "id": "70d99a7e-fe13-4970-9c2a-e13b317d1b71",
   "metadata": {},
   "outputs": [],
   "source": [
    "movies.head()"
   ]
  },
  {
   "cell_type": "code",
   "execution_count": null,
   "id": "3bd7c6f4-c471-45ae-ac3c-5f9d72e56738",
   "metadata": {},
   "outputs": [],
   "source": [
    "movies['keywords']=movies['keywords'].apply(convert)"
   ]
  },
  {
   "cell_type": "code",
   "execution_count": null,
   "id": "730d43d7-e10c-44ad-8fb5-d25839e59f9b",
   "metadata": {},
   "outputs": [],
   "source": [
    "movies.head()"
   ]
  },
  {
   "cell_type": "code",
   "execution_count": null,
   "id": "7c1ff585-f49e-4bc6-95f6-8c7da184009b",
   "metadata": {},
   "outputs": [],
   "source": [
    "\n",
    "def convert3(obj):\n",
    "    L=[]\n",
    "    counter =0\n",
    "    for i in ast.literal_eval(obj):  # obj is string so by using this code convert into list so we can change or perform  operation \n",
    "        if counter !=3:\n",
    "            L.append(i['name'])\n",
    "            counter+=1\n",
    "        else:\n",
    "            break\n",
    "    return L"
   ]
  },
  {
   "cell_type": "code",
   "execution_count": null,
   "id": "f3de658e-4526-4b76-bc61-51a05bbc3dfc",
   "metadata": {},
   "outputs": [],
   "source": [
    "movies['cast']=movies['cast'].apply(convert3)\n"
   ]
  },
  {
   "cell_type": "code",
   "execution_count": null,
   "id": "61a1b99b-8cb7-41bb-be77-0b04b5fd70c5",
   "metadata": {},
   "outputs": [],
   "source": [
    "movies.head()"
   ]
  },
  {
   "cell_type": "code",
   "execution_count": null,
   "id": "98849aba-1bc1-461f-8243-25648009b383",
   "metadata": {},
   "outputs": [],
   "source": [
    "# movies['crew'][0]"
   ]
  },
  {
   "cell_type": "code",
   "execution_count": null,
   "id": "40a2ecde-133c-4999-bcf5-f9a4852e609a",
   "metadata": {},
   "outputs": [],
   "source": [
    "\n",
    "def fetch_director(obj):\n",
    "    L=[]\n",
    "    for i in ast.literal_eval(obj):  # obj is string so by using this code convert into list so we can change or perform  operation \n",
    "        if i['job'] == 'Director':\n",
    "            L.append(i['name'])\n",
    "            break\n",
    "    return L"
   ]
  },
  {
   "cell_type": "code",
   "execution_count": null,
   "id": "becdf6ff-8d4d-4257-a22c-ce4a776d1ba3",
   "metadata": {},
   "outputs": [],
   "source": [
    "movies['crew']=movies['crew'].apply(fetch_director)\n",
    "movies.head()"
   ]
  },
  {
   "cell_type": "code",
   "execution_count": null,
   "id": "4b79c6b1-17fc-4a5d-a76a-2b9942400d47",
   "metadata": {},
   "outputs": [],
   "source": [
    "movies['overview'][0]"
   ]
  },
  {
   "cell_type": "code",
   "execution_count": null,
   "id": "c5561c61-2152-491d-a11b-331ebc582997",
   "metadata": {},
   "outputs": [],
   "source": [
    "movies['overview']=movies['overview'].apply(lambda x:x.split())"
   ]
  },
  {
   "cell_type": "code",
   "execution_count": null,
   "id": "af92cc91-d30b-4dad-84cb-19da2c98fe43",
   "metadata": {},
   "outputs": [],
   "source": [
    "movies.head()"
   ]
  },
  {
   "cell_type": "code",
   "execution_count": null,
   "id": "c679959a-f14a-4515-a8c0-79c612a1a91b",
   "metadata": {},
   "outputs": [],
   "source": [
    "#   Sam Worthington = SamWorthington"
   ]
  },
  {
   "cell_type": "code",
   "execution_count": null,
   "id": "f2fbe7f6-4cf5-418a-8845-258cfd1a3309",
   "metadata": {},
   "outputs": [],
   "source": [
    "movies['genres']=movies['genres'].apply(lambda x:[i.replace(\" \",\"\") for i in x]) # ScienceFiction (done)\n"
   ]
  },
  {
   "cell_type": "code",
   "execution_count": null,
   "id": "dd197637-882f-46c4-b759-31acd08a2e0f",
   "metadata": {},
   "outputs": [],
   "source": [
    "movies['keywords']=movies['keywords'].apply(lambda x:[i.replace(\" \",\"\") for i in x]) # ScienceFiction (done)\n"
   ]
  },
  {
   "cell_type": "code",
   "execution_count": null,
   "id": "f341b40d-2ef1-4a7f-a12b-d2f68585fcec",
   "metadata": {},
   "outputs": [],
   "source": [
    "movies['cast']=movies['cast'].apply(lambda x:[i.replace(\" \",\"\") for i in x]) # ScienceFiction (done)\n"
   ]
  },
  {
   "cell_type": "code",
   "execution_count": null,
   "id": "5831dec1-26fd-4b24-b9d3-617dc6b3b7bf",
   "metadata": {},
   "outputs": [],
   "source": [
    "movies['crew']=movies['crew'].apply(lambda x:[i.replace(\" \",\"\") for i in x]) # ScienceFiction (done)"
   ]
  },
  {
   "cell_type": "code",
   "execution_count": null,
   "id": "218646bf-66c2-48de-a763-63522742094e",
   "metadata": {},
   "outputs": [],
   "source": [
    "movies.head()"
   ]
  },
  {
   "cell_type": "code",
   "execution_count": null,
   "id": "d830103c-3ef3-4168-8bb7-8f7045fe2be8",
   "metadata": {},
   "outputs": [],
   "source": [
    "movies['tags']=movies['overview'] + movies['genres'] + movies['keywords'] + movies['cast'] + movies['crew'] # merge row wise"
   ]
  },
  {
   "cell_type": "code",
   "execution_count": null,
   "id": "53746aa6-265e-40d3-ba5e-0eb0081142a3",
   "metadata": {},
   "outputs": [],
   "source": [
    "movies.head()"
   ]
  },
  {
   "cell_type": "code",
   "execution_count": null,
   "id": "62464204-bf9e-4b23-8b0d-cbcb26a1ff59",
   "metadata": {},
   "outputs": [],
   "source": [
    "print(movies.tags[0]) # merge row wise"
   ]
  },
  {
   "cell_type": "code",
   "execution_count": null,
   "id": "2fbdb7a3-d5d3-404d-b4dd-0af0fb969d12",
   "metadata": {},
   "outputs": [],
   "source": [
    "new_df=movies[['title','movie_id','tags',]]"
   ]
  },
  {
   "cell_type": "code",
   "execution_count": null,
   "id": "d33a9859-c9e3-4d39-b340-d82f97b61ee6",
   "metadata": {},
   "outputs": [],
   "source": [
    "new_df.head()"
   ]
  },
  {
   "cell_type": "code",
   "execution_count": null,
   "id": "d4211297-bea1-4268-a502-37e02fae81b3",
   "metadata": {},
   "outputs": [],
   "source": [
    "new_df['tags']=new_df['tags'].apply(lambda x:\" \".join(x))"
   ]
  },
  {
   "cell_type": "code",
   "execution_count": null,
   "id": "a5c189f4-203f-4ed1-b445-e2172f034a69",
   "metadata": {},
   "outputs": [],
   "source": [
    "new_df.head()"
   ]
  },
  {
   "cell_type": "markdown",
   "id": "36e37c0b-dec3-4b8b-8756-d211424f206d",
   "metadata": {},
   "source": [
    "## nltk library used\n",
    "#### to ['loving','loved','love'] ==love in sb words ko ak he words ke equal assign krna "
   ]
  },
  {
   "cell_type": "code",
   "execution_count": null,
   "id": "6bf29eb2-762d-49a5-8f47-c68c7c9d6541",
   "metadata": {},
   "outputs": [],
   "source": [
    "import nltk\n",
    "from nltk.stem.porter import PorterStemmer\n",
    "ps=PorterStemmer()"
   ]
  },
  {
   "cell_type": "code",
   "execution_count": null,
   "id": "3a234757-54ce-4447-ae31-2354b0b75735",
   "metadata": {},
   "outputs": [],
   "source": [
    "def stem(text):\n",
    "    y=[]\n",
    "    for i in text.split():\n",
    "        y.append(ps.stem(i))\n",
    "\n",
    "    return \" \".join(y)"
   ]
  },
  {
   "cell_type": "code",
   "execution_count": null,
   "id": "846f7b71-752a-4aaa-b516-c581dc3bf5f9",
   "metadata": {},
   "outputs": [],
   "source": [
    "new_df['tags']=new_df['tags'].apply(stem)\n",
    "new_df.head()"
   ]
  },
  {
   "cell_type": "code",
   "execution_count": null,
   "id": "6d020e89-470b-4f50-a7aa-8e0bffc2211d",
   "metadata": {},
   "outputs": [],
   "source": [
    "new_df['tags'][0]"
   ]
  },
  {
   "cell_type": "code",
   "execution_count": null,
   "id": "be5b8f43-9cc2-4a3e-bfd7-cf7d71489151",
   "metadata": {},
   "outputs": [],
   "source": [
    "new_df['tags']=new_df['tags'].apply(lambda x:x.lower())"
   ]
  },
  {
   "cell_type": "code",
   "execution_count": null,
   "id": "40c33ad9-c84a-4cb6-a6b4-bce6b2f02beb",
   "metadata": {},
   "outputs": [],
   "source": [
    "new_df['tags'][1]"
   ]
  },
  {
   "cell_type": "markdown",
   "id": "75c9eb56-e354-4c99-bead-a0f328395eb5",
   "metadata": {},
   "source": [
    "# Conver text into vectors by vectorization\n",
    "1. bag of words technique\n",
    "2. tf idf tech\n",
    "3. word to vec tech"
   ]
  },
  {
   "cell_type": "code",
   "execution_count": null,
   "id": "531cd4a6-7b2e-415f-9435-c4886dc0306e",
   "metadata": {},
   "outputs": [],
   "source": [
    "# tags 1 +tag 2 + tag3 .................5000 times\n",
    "#          word 1+ word 2 +word 3 +   word 4................lakhs\n",
    "# movie1 =  4        3       5           5  == 1 vector \n",
    "# movie2 =  1        1       4           0 === 1 vector\n",
    "# movie3=   5         0      6           1 == 1 vector\n",
    "# movie4=   5         0      6           1\n",
    "# movie5=   5         0      6           1\n",
    "#5000 times\n",
    "#Extract 5000 words from lakhs words\n",
    "#we are not include - are , is , am ,was , were so extract using sklearn "
   ]
  },
  {
   "cell_type": "code",
   "execution_count": null,
   "id": "ade46b80-6be4-4c71-8189-1356a9e61704",
   "metadata": {},
   "outputs": [],
   "source": [
    "from sklearn.feature_extraction.text import CountVectorizer\n",
    "cv=CountVectorizer(max_features=5000,stop_words='english')\n"
   ]
  },
  {
   "cell_type": "code",
   "execution_count": null,
   "id": "4556ec7e-843e-47a2-b94e-22e4155586cc",
   "metadata": {},
   "outputs": [],
   "source": [
    "# vectors=cv.fit_transform(new_df['tags']).toarray().shape\n",
    "vectors=cv.fit_transform(new_df['tags']).toarray()"
   ]
  },
  {
   "cell_type": "code",
   "execution_count": null,
   "id": "0d854d85-ca6b-4187-b90f-8f00c651e7d0",
   "metadata": {},
   "outputs": [],
   "source": [
    "vectors"
   ]
  },
  {
   "cell_type": "code",
   "execution_count": null,
   "id": "d028639e-53d3-46d9-96ba-d18fb1926480",
   "metadata": {},
   "outputs": [],
   "source": [
    "vectors[0]"
   ]
  },
  {
   "cell_type": "code",
   "execution_count": null,
   "id": "f8a0d1d0-7f71-415e-aaa7-2bf49bf14d50",
   "metadata": {},
   "outputs": [],
   "source": [
    "# len(cv.get_feature_names_out()) O/P -> 5000\n",
    "features_name=cv.get_feature_names_out()\n",
    "features_name=pd.DataFrame(features_name)\n",
    "features_name"
   ]
  },
  {
   "cell_type": "code",
   "execution_count": null,
   "id": "67274956-c600-4590-9e66-13dae7274aa6",
   "metadata": {},
   "outputs": [],
   "source": [
    "stem('In the 22nd century, a paraplegic Marine is dispatched to the moon Pandora on a unique mission, but becomes torn between following orders and protecting an alien civilization. Action Adventure Fantasy ScienceFiction cultureclash future spacewar spacecolony society spacetravel futuristic romance space alien tribe alienplanet cgi marine soldier battle loveaffair antiwar powerrelations mindandsoul 3d SamWorthington ZoeSaldana SigourneyWeaver JamesCameron')"
   ]
  },
  {
   "cell_type": "code",
   "execution_count": null,
   "id": "419eb190-55ae-4df6-ae0a-8f94cbf3d15e",
   "metadata": {},
   "outputs": [],
   "source": [
    "from sklearn.metrics.pairwise import cosine_similarity"
   ]
  },
  {
   "cell_type": "markdown",
   "id": "c6c66f6b-0c34-44a2-a5b8-e3f42becda59",
   "metadata": {},
   "source": [
    "### Calculate distance of 1 movie's vector from 4806 movies's vector ony by one perform on all"
   ]
  },
  {
   "cell_type": "code",
   "execution_count": null,
   "id": "3d493214-989b-4aa3-b4f9-6f3aa8b4a824",
   "metadata": {},
   "outputs": [],
   "source": [
    "# cosine_similarity(vectors).shape -->o/p-- (4806,4806)\n",
    "similarity=cosine_similarity(vectors)\n",
    "# simirarity[0].shape"
   ]
  },
  {
   "cell_type": "code",
   "execution_count": null,
   "id": "bad2a581-fcd6-4c48-a700-3bc3eb0bdfcc",
   "metadata": {},
   "outputs": [],
   "source": [
    "# sorted(simirarity[0])[-10 : -1]\n",
    "# sorted(simirarity[0],reverse=True)\n",
    "# sorted(list(enumerate(simirarity[0])),reverse=True)\n",
    "sorted(list(enumerate(similarity[0])),reverse=True,key=lambda x:x[1])[1:6]"
   ]
  },
  {
   "cell_type": "code",
   "execution_count": null,
   "id": "a848d0b1-c76e-41d1-be78-8b1fdb0d0b7d",
   "metadata": {},
   "outputs": [],
   "source": [
    "similarity[0] ## 1 movie ka sabhi movie ke sath similarity"
   ]
  },
  {
   "cell_type": "code",
   "execution_count": null,
   "id": "89d31e45-687c-4092-8aa2-d9afd96f3eb1",
   "metadata": {},
   "outputs": [],
   "source": [
    "def recommend(movie):\n",
    "    movie_index =new_df[new_df['title']==movie].index[0]\n",
    "    distances = similarity[movie_index] \n",
    "    movies_list= sorted(list(enumerate(distances)),reverse=True,key=lambda x:x[1])[1:6]\n",
    "\n",
    "    for i in movies_list:\n",
    "        print(new_df.iloc[i[0]].title)\n",
    "        \n",
    "    "
   ]
  },
  {
   "cell_type": "code",
   "execution_count": null,
   "id": "999ed62b-5d27-45db-964b-f6a04bd59ca8",
   "metadata": {},
   "outputs": [],
   "source": [
    "new_df.head(10)"
   ]
  },
  {
   "cell_type": "code",
   "execution_count": null,
   "id": "a5a27252-7d58-4e9c-a801-4f5813493321",
   "metadata": {},
   "outputs": [],
   "source": [
    "new_df[new_df['title']== 'John Carter'].index[0]"
   ]
  },
  {
   "cell_type": "code",
   "execution_count": null,
   "id": "d19b960e-d40c-4e43-af52-6460a81a6f45",
   "metadata": {},
   "outputs": [],
   "source": [
    "recommend('Spider-Man 3')"
   ]
  },
  {
   "cell_type": "code",
   "execution_count": null,
   "id": "98f2700a-b6c8-47c8-b586-73473ce760e7",
   "metadata": {},
   "outputs": [],
   "source": [
    "new_df.iloc[1216].title"
   ]
  },
  {
   "cell_type": "markdown",
   "id": "69d95c22-f32f-4d85-99ad-0ce5de820e07",
   "metadata": {},
   "source": [
    "# To deploy this project"
   ]
  },
  {
   "cell_type": "code",
   "execution_count": null,
   "id": "d57c61ec-4243-4256-a44b-9edf90d29a6a",
   "metadata": {},
   "outputs": [],
   "source": [
    "import pickle"
   ]
  },
  {
   "cell_type": "code",
   "execution_count": null,
   "id": "283e0a09-5594-40e7-9dfd-ee8fa56fa9e5",
   "metadata": {},
   "outputs": [],
   "source": [
    "pickle.dump(new_df,open('movies.pkl','wb'))"
   ]
  },
  {
   "cell_type": "code",
   "execution_count": null,
   "id": "13c15808-1633-48dd-a280-f3940bee2654",
   "metadata": {},
   "outputs": [],
   "source": [
    "new_df['title'].values"
   ]
  },
  {
   "cell_type": "code",
   "execution_count": null,
   "id": "ea61ffcf-fb2b-407d-9077-155256dfc8b7",
   "metadata": {},
   "outputs": [],
   "source": [
    "pickle.dump(new_df.to_dict(),open('movie_dict.pkl','wb'))"
   ]
  },
  {
   "cell_type": "code",
   "execution_count": null,
   "id": "39df9a74-f4d2-4f6d-9d30-b2be912b89fa",
   "metadata": {},
   "outputs": [],
   "source": [
    "pickle.dump(similarity,open('similarity.pkl','wb'))"
   ]
  },
  {
   "cell_type": "code",
   "execution_count": null,
   "id": "91bb50de-9a6a-41fd-8125-98f85b6e0e66",
   "metadata": {},
   "outputs": [],
   "source": [
    "new_df.to_dict().head()"
   ]
  },
  {
   "cell_type": "code",
   "execution_count": null,
   "id": "af854194-9bd7-4f06-b000-047ebfec051d",
   "metadata": {},
   "outputs": [],
   "source": []
  },
  {
   "cell_type": "code",
   "execution_count": null,
   "id": "b4bf78f2-8141-42be-9741-40b8be5d63a2",
   "metadata": {},
   "outputs": [],
   "source": []
  },
  {
   "cell_type": "code",
   "execution_count": null,
   "id": "3bfcfd4f-045d-4fc1-bfc5-e60ab314cacc",
   "metadata": {},
   "outputs": [],
   "source": []
  },
  {
   "cell_type": "code",
   "execution_count": null,
   "id": "4fbbff9b-ad68-4a35-a0d0-a20352de5b00",
   "metadata": {},
   "outputs": [],
   "source": []
  },
  {
   "cell_type": "code",
   "execution_count": null,
   "id": "449f2865-2e03-472b-b212-406620bb0112",
   "metadata": {},
   "outputs": [],
   "source": []
  },
  {
   "cell_type": "code",
   "execution_count": null,
   "id": "c5bc97f1-3e84-4a9c-9cc7-47863d55e56b",
   "metadata": {},
   "outputs": [],
   "source": []
  },
  {
   "cell_type": "code",
   "execution_count": null,
   "id": "a549b46f-27b7-440a-934c-4e87035c5cfc",
   "metadata": {},
   "outputs": [],
   "source": []
  },
  {
   "cell_type": "code",
   "execution_count": null,
   "id": "18ad852a-2939-45de-bf85-d06dfadf7538",
   "metadata": {},
   "outputs": [],
   "source": []
  },
  {
   "cell_type": "code",
   "execution_count": null,
   "id": "b54bb921-e879-468a-bf7c-09fe42f251c3",
   "metadata": {},
   "outputs": [],
   "source": []
  },
  {
   "cell_type": "code",
   "execution_count": null,
   "id": "057f3f54-60ea-41e5-ae78-552c9b7494ff",
   "metadata": {},
   "outputs": [],
   "source": []
  },
  {
   "cell_type": "code",
   "execution_count": null,
   "id": "13720b13-6188-4ff4-86f2-29bf212b2d07",
   "metadata": {},
   "outputs": [],
   "source": []
  },
  {
   "cell_type": "code",
   "execution_count": null,
   "id": "fe873413-9bcd-4f28-9a4c-dc163313cb45",
   "metadata": {},
   "outputs": [],
   "source": []
  },
  {
   "cell_type": "code",
   "execution_count": null,
   "id": "0b910516-d22a-4f59-8dee-03dd4c149635",
   "metadata": {},
   "outputs": [],
   "source": []
  },
  {
   "cell_type": "code",
   "execution_count": null,
   "id": "4488cd24-5196-4e1a-aca5-e094b160da68",
   "metadata": {},
   "outputs": [],
   "source": []
  },
  {
   "cell_type": "code",
   "execution_count": null,
   "id": "a9dcea36-d687-4018-8adb-4d979a76055b",
   "metadata": {},
   "outputs": [],
   "source": []
  },
  {
   "cell_type": "code",
   "execution_count": null,
   "id": "31090093-1667-4d86-ba8e-37cc418c13a6",
   "metadata": {},
   "outputs": [],
   "source": []
  },
  {
   "cell_type": "code",
   "execution_count": null,
   "id": "3ef67568-fe64-4336-a04c-03d47145ab35",
   "metadata": {},
   "outputs": [],
   "source": []
  },
  {
   "cell_type": "code",
   "execution_count": null,
   "id": "e7678796-eea0-43d9-ab9b-4e6d9637d9ae",
   "metadata": {},
   "outputs": [],
   "source": []
  },
  {
   "cell_type": "code",
   "execution_count": null,
   "id": "6e6ee5eb-21e5-461b-9c0e-a6084d820525",
   "metadata": {},
   "outputs": [],
   "source": []
  },
  {
   "cell_type": "code",
   "execution_count": null,
   "id": "c4610eb8-dada-4891-a2c7-6455321a1886",
   "metadata": {},
   "outputs": [],
   "source": []
  },
  {
   "cell_type": "code",
   "execution_count": null,
   "id": "904aa5b6-6d30-45df-b953-913578dd1e0d",
   "metadata": {},
   "outputs": [],
   "source": []
  },
  {
   "cell_type": "code",
   "execution_count": null,
   "id": "344b68bb-b66b-405e-9009-4caa4207244b",
   "metadata": {},
   "outputs": [],
   "source": []
  },
  {
   "cell_type": "code",
   "execution_count": null,
   "id": "e97ba384-04ea-470d-9fef-57bb472a3f0a",
   "metadata": {},
   "outputs": [],
   "source": []
  },
  {
   "cell_type": "code",
   "execution_count": null,
   "id": "bc080e42-cc8f-42fc-8cd9-eeca76fac46b",
   "metadata": {},
   "outputs": [],
   "source": []
  },
  {
   "cell_type": "code",
   "execution_count": null,
   "id": "2f2aa4e4-8034-4036-9628-dba5375572b6",
   "metadata": {},
   "outputs": [],
   "source": []
  },
  {
   "cell_type": "code",
   "execution_count": null,
   "id": "21338dfe-e5a7-4c4d-a41d-c98c613a2660",
   "metadata": {},
   "outputs": [],
   "source": []
  },
  {
   "cell_type": "code",
   "execution_count": null,
   "id": "080c3db2-699f-4cbc-9aa7-8d56255038e9",
   "metadata": {},
   "outputs": [],
   "source": []
  },
  {
   "cell_type": "code",
   "execution_count": null,
   "id": "b9c0b54b-be5a-4faa-98d7-40fc98fd9fff",
   "metadata": {},
   "outputs": [],
   "source": []
  },
  {
   "cell_type": "code",
   "execution_count": null,
   "id": "bbf5b0a8-8227-4400-89ee-24fdfcf20145",
   "metadata": {},
   "outputs": [],
   "source": []
  },
  {
   "cell_type": "code",
   "execution_count": null,
   "id": "1c97f954-5335-45ec-98a2-21aae9bc0906",
   "metadata": {},
   "outputs": [],
   "source": []
  },
  {
   "cell_type": "code",
   "execution_count": null,
   "id": "cbee0156-a936-40ed-ba09-0e1a50c190a3",
   "metadata": {},
   "outputs": [],
   "source": []
  },
  {
   "cell_type": "code",
   "execution_count": null,
   "id": "f273c7aa-3e81-4175-b779-7ccdda535444",
   "metadata": {},
   "outputs": [],
   "source": []
  },
  {
   "cell_type": "code",
   "execution_count": null,
   "id": "3386bb3e-01ed-407a-9771-725efdef723c",
   "metadata": {},
   "outputs": [],
   "source": []
  },
  {
   "cell_type": "code",
   "execution_count": null,
   "id": "53daf4b2-a79e-4747-81bb-8936d5dff6f0",
   "metadata": {},
   "outputs": [],
   "source": []
  },
  {
   "cell_type": "code",
   "execution_count": null,
   "id": "0d552e0b-d2df-4d5a-9dfc-12cbf83aa9e6",
   "metadata": {},
   "outputs": [],
   "source": []
  },
  {
   "cell_type": "code",
   "execution_count": null,
   "id": "65420117-3ba7-4b14-9a5c-c1ba49089392",
   "metadata": {},
   "outputs": [],
   "source": []
  }
 ],
 "metadata": {
  "kernelspec": {
   "display_name": "Python 3 (ipykernel)",
   "language": "python",
   "name": "python3"
  },
  "language_info": {
   "codemirror_mode": {
    "name": "ipython",
    "version": 3
   },
   "file_extension": ".py",
   "mimetype": "text/x-python",
   "name": "python",
   "nbconvert_exporter": "python",
   "pygments_lexer": "ipython3",
   "version": "3.12.3"
  },
  "widgets": {
   "application/vnd.jupyter.widget-state+json": {
    "state": {},
    "version_major": 2,
    "version_minor": 0
   }
  }
 },
 "nbformat": 4,
 "nbformat_minor": 5
}
